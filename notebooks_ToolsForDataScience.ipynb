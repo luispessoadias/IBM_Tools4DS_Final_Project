{
  "metadata": {
    "language_info": {
      "codemirror_mode": {
        "name": "python",
        "version": 3
      },
      "file_extension": ".py",
      "mimetype": "text/x-python",
      "name": "python",
      "nbconvert_exporter": "python",
      "pygments_lexer": "ipython3",
      "version": "3.8"
    },
    "kernelspec": {
      "name": "python",
      "display_name": "Python (Pyodide)",
      "language": "python"
    }
  },
  "nbformat_minor": 4,
  "nbformat": 4,
  "cells": [
    {
      "cell_type": "markdown",
      "source": "<align center><h1> My Jupyter Notebook on IBM Watson Studio</h1>",
      "metadata": {}
    },
    {
      "cell_type": "markdown",
      "source": "<b> Luis Claudio Pessoa Dias </b>",
      "metadata": {}
    },
    {
      "cell_type": "markdown",
      "source": "<i> I am interested in Data Science because I find amazing to discover patterns and other things hidden in data </i>",
      "metadata": {}
    },
    {
      "cell_type": "markdown",
      "source": "<h3> The following code displays the <i> n-th </i> term of the fibonacci sequence. The example n is set to 10  </h3>",
      "metadata": {}
    },
    {
      "cell_type": "code",
      "source": "n = 10\n\nif n < 3:\n    print(\"1\")\n\nelse:\n    count=3\n    a=1\n    b=1\n    c=2\n    while count <= n:\n        c = a + b\n        a = b\n        b = c\n        count += 1\n\nprint(c)",
      "metadata": {
        "trusted": true
      },
      "execution_count": 19,
      "outputs": [
        {
          "name": "stdout",
          "text": "55\n",
          "output_type": "stream"
        }
      ]
    },
    {
      "cell_type": "markdown",
      "source": "\nThe first 10 elements in fibonacci sequence\n\n<hr>\n\n<ul>\n    <li> 1 </li>\n    <li> 1 </li>\n    <li> 2 </li>\n    <li> 3 </li>\n    <li> 5 </li>\n    <li> 8 </li>\n    <li> 13 </li>\n    <li> 21 </li>\n    <li> 34 </li>\n    <li> 55 </li>\n</ul>\n\n<hr>\n\n<img src=\"https://upload.wikimedia.org/wikipedia/commons/9/93/Fibonacci_spiral_34.svg\">\n\nTo know more, <a href=\"https://en.wikipedia.org/wiki/Fibonacci_number\"> click here </a>",
      "metadata": {}
    },
    {
      "cell_type": "code",
      "source": "",
      "metadata": {},
      "execution_count": null,
      "outputs": []
    }
  ]
}